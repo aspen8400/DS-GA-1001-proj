{
 "cells": [
  {
   "cell_type": "code",
   "execution_count": 1,
   "metadata": {},
   "outputs": [],
   "source": [
    "import numpy as np\n",
    "import pandas as pd\n",
    "import seaborn as sns\n",
    "import matplotlib.pyplot as plt\n",
    "from sklearn.metrics import roc_curve, auc, roc_auc_score\n",
    "from sklearn.metrics import confusion_matrix\n",
    "from sklearn.metrics import classification_report\n",
    "from sklearn import svm\n",
    "from sklearn import linear_model\n",
    "from sklearn.model_selection import KFold, cross_val_score\n",
    "from sklearn.model_selection import train_test_split, GridSearchCV\n",
    "from sklearn.ensemble import RandomForestClassifier\n",
    "import os\n",
    "from pandas.api.types import is_string_dtype\n",
    "from pandas.api.types import is_numeric_dtype\n",
    "from sklearn import preprocessing\n",
    "import time"
   ]
  },
  {
   "cell_type": "code",
   "execution_count": 2,
   "metadata": {},
   "outputs": [],
   "source": [
    "# Import data (for Mac the \"\\\\\" might be replaced by \"/\")\n",
    "cwd = os.getcwd()\n",
    "data = pd.read_csv(cwd + \"\\\\WA_Fn-UseC_-Sales-Win-Loss.csv\", index_col = 0)"
   ]
  },
  {
   "cell_type": "markdown",
   "metadata": {},
   "source": [
    "### First run the smv, then rerun the random forest"
   ]
  },
  {
   "cell_type": "code",
   "execution_count": 3,
   "metadata": {},
   "outputs": [],
   "source": [
    "# Data Preparation\n",
    "data_clean = data.copy()\n",
    "# Drop rows with opportunity amount 0\n",
    "data_clean = data_clean.drop(data_clean[data_clean['Opportunity Amount USD'] == 0].index, axis = 0)\n",
    "# Drop features that should not be used in training and prediction\n",
    "data_clean = data_clean.drop(['Sales Stage Change Count', 'Elapsed Days In Sales Stage', \n",
    "                              'Ratio Days Identified To Total Days',\n",
    "                              'Ratio Days Qualified To Total Days', 'Ratio Days Validated To Total Days', \n",
    "                              'Total Days Identified Through Closing', 'Total Days Identified Through Qualified',\n",
    "                              'Deal Size Category'], \n",
    "                             axis = 1)\n",
    "# Change opportunity result(our target variable) to numeric\n",
    "minority = data_clean['Opportunity Result'].value_counts().idxmin()\n",
    "result = np.array((data_clean['Opportunity Result'] == minority).astype(int))\n",
    "data_clean = data_clean.drop(['Opportunity Result'], axis = 1)\n",
    "# For each categorical variables in the dataset, try to assign an unique indicator variable \n",
    "#      for each different category\n",
    "# (This may not be a good step because it adds too many columns, but we'll see)\n",
    "for col in data_clean.columns:\n",
    "    if is_string_dtype(data_clean[col]):\n",
    "        name_set = set(data_clean[col])\n",
    "        for name in name_set:\n",
    "            data_clean[' '.join([col, name, 'indicator'])] = (data_clean[col] == name).astype(int)\n",
    "        data_clean = data_clean.drop([col], axis = 1)\n",
    "# Check if there is any null value in our dataset\n",
    "if data_clean.isnull().any().any():\n",
    "    print('NO!!!!!')\n",
    "# Gladly, we don't have any\n",
    "\n",
    "# Normalize our dataset\n",
    "scale = preprocessing.StandardScaler()\n",
    "data_clean_svm = pd.DataFrame(scale.fit_transform(data_clean), columns = data_clean.columns)\n",
    "data_clean_svm['result'] = result\n",
    "\n",
    "# Version without normalizing\n",
    "data_clean['result'] = result"
   ]
  },
  {
   "cell_type": "code",
   "execution_count": 4,
   "metadata": {},
   "outputs": [],
   "source": [
    "# Split data into training and test (Xiao's version) with normalized data\n",
    "length_svm = len(data_clean_svm['result'])\n",
    "train_index_svm = []\n",
    "test_index_svm = []\n",
    "for i in range(length_svm):\n",
    "    train_index_svm.append(i) if np.random.rand() <= 0.8 else test_index_svm.append(i)\n",
    "data_train_svm = data_clean_svm.iloc[train_index_svm, :]\n",
    "data_test_svm = data_clean_svm.iloc[test_index_svm, :]"
   ]
  },
  {
   "cell_type": "code",
   "execution_count": null,
   "metadata": {},
   "outputs": [],
   "source": [
    "# Running svm for predict_prob requires a parameter to enable probability estimate,\n",
    "# which will slow down the speed a lot, so for feature selection, maybe we\n",
    "# just test other parameters\n",
    "\n",
    "# Use Grid Search svm\n",
    "gs_svm = svm.SVC()\n",
    "\n",
    "# Set parameters\n",
    "param_dist = {'C': [10**i for i in range(-4, 4)],\n",
    "              'kernel': ['linear', 'poly', 'rbf', 'sigmoid', 'precomputed']}\n",
    "\n",
    "start = time.time()\n",
    "cv_svm = GridSearchCV(gs_svm, cv = 3,\n",
    "                     param_grid=param_dist,\n",
    "                     n_jobs = -1)\n",
    "\n",
    "cv_svm.fit(data_train_svm.drop(['result'], axis = 1), data_train_svm['result'])\n",
    "\n",
    "print('Best Parameters using grid search: \\n',\n",
    "      cv_svm.best_params_)\n",
    "\n",
    "end = time.time()\n",
    "\n",
    "print('Time taken in grid search: {0: .2f}'.format(end - start))"
   ]
  },
  {
   "cell_type": "code",
   "execution_count": null,
   "metadata": {},
   "outputs": [],
   "source": [
    "\n",
    "#result_svm = svm.decision_function(data_test.drop(['result'], axis = 1)) # uncomment this line when plotting auc"
   ]
  },
  {
   "cell_type": "code",
   "execution_count": null,
   "metadata": {},
   "outputs": [],
   "source": []
  },
  {
   "cell_type": "markdown",
   "metadata": {},
   "source": [
    "Run the FR once more with more iterations"
   ]
  },
  {
   "cell_type": "code",
   "execution_count": null,
   "metadata": {},
   "outputs": [],
   "source": [
    "# Split data into training and test (Xiao's version) without normalizing\n",
    "length = len(data_clean['result'])\n",
    "train_index = []\n",
    "test_index = []\n",
    "for i in range(length):\n",
    "    train_index.append(i) if np.random.rand() <= 0.8 else test_index.append(i)\n",
    "data_train = data_clean.iloc[train_index, :]\n",
    "data_test = data_clean.iloc[test_index, :]"
   ]
  },
  {
   "cell_type": "code",
   "execution_count": null,
   "metadata": {},
   "outputs": [],
   "source": [
    "# Create a baseline model and set the random state for reproductibility\n",
    "rf = RandomForestClassifier(random_state=42)\n",
    "\n",
    "from pprint import pprint\n",
    "# Look at the default parameters\n",
    "print('Parameters currently in use:\\n')\n",
    "pprint(rf.get_params())"
   ]
  },
  {
   "cell_type": "code",
   "execution_count": null,
   "metadata": {},
   "outputs": [],
   "source": [
    "# Create a parameter grid to sample from during fitting\n",
    "\n",
    "# Number of trees in random forest\n",
    "n_estimators = [int(x) for x in np.linspace(start = 100, stop = 1000, num = 10)]\n",
    "# Number of features to consider at every split\n",
    "max_features = ['auto', 'sqrt', \"log2\", None]\n",
    "# Maximum number of levels in tree\n",
    "max_depth = [int(x) for x in np.linspace(10, 110, num = 11)]\n",
    "max_depth.append(None)\n",
    "# Minimum number of samples required to split a node\n",
    "min_samples_split = [2, 5, 10]\n",
    "# Minimum number of samples required at each leaf node\n",
    "min_samples_leaf = [1, 2, 4]\n",
    "# Method of selecting samples for training each tree\n",
    "bootstrap = [True, False]\n",
    "# Criterion\n",
    "criterion = ['gini', 'entropy']\n",
    "# Create the random grid\n",
    "random_grid = {'n_estimators': n_estimators,\n",
    "               'max_features': max_features,\n",
    "               'max_depth': max_depth,\n",
    "               'min_samples_split': min_samples_split,\n",
    "               'min_samples_leaf': min_samples_leaf,\n",
    "               'bootstrap': bootstrap,\n",
    "               \"criterion\": criterion}\n",
    "pprint(random_grid)"
   ]
  },
  {
   "cell_type": "code",
   "execution_count": null,
   "metadata": {},
   "outputs": [],
   "source": [
    "# Run the RF once more with more iterations\n",
    "\n",
    "# Use the random grid to search for best hyperparameters\n",
    "from sklearn.model_selection import RandomizedSearchCV\n",
    "import time\n",
    "\n",
    "# Random search of parameters, using 3 fold cross validation, \n",
    "# search across 100 different combinations, and use all available cores\n",
    "start = time.time()\n",
    "\n",
    "rf_random = RandomizedSearchCV(estimator = rf, \n",
    "                               param_distributions = random_grid, \n",
    "                               n_iter = 100, \n",
    "                               cv = 3, \n",
    "                               verbose=2, \n",
    "                               random_state=42, \n",
    "                               n_jobs = -1)\n",
    "\n",
    "# Fit the random search model\n",
    "rf_random.fit(data_train.drop(\"result\", 1), data_train['result'])\n",
    "\n",
    "end = time.time()\n",
    "print('Time taken in random grid: {0: .2f}'.format(end - start))"
   ]
  },
  {
   "cell_type": "code",
   "execution_count": null,
   "metadata": {},
   "outputs": [],
   "source": []
  },
  {
   "cell_type": "code",
   "execution_count": null,
   "metadata": {},
   "outputs": [],
   "source": []
  },
  {
   "cell_type": "code",
   "execution_count": 39,
   "metadata": {},
   "outputs": [
    {
     "data": {
      "text/plain": [
       "0.844561554095254"
      ]
     },
     "execution_count": 39,
     "metadata": {},
     "output_type": "execute_result"
    },
    {
     "data": {
      "image/png": "[encoded data removed]",
      "text/plain": [
       "<Figure size 1080x720 with 1 Axes>"
      ]
     },
     "metadata": {},
     "output_type": "display_data"
    }
   ],
   "source": [
    "# Plot the ROC\n",
    "fig = plt.figure(figsize = (15, 10))\n",
    "plotROC(result_RF, data_test['result'], 'Random Grid + Grid Search')"
   ]
  }
 ],
 "metadata": {
  "kernelspec": {
   "display_name": "Python 3",
   "language": "python",
   "name": "python3"
  },
  "language_info": {
   "codemirror_mode": {
    "name": "ipython",
    "version": 3
   },
   "file_extension": ".py",
   "mimetype": "text/x-python",
   "name": "python",
   "nbconvert_exporter": "python",
   "pygments_lexer": "ipython3",
   "version": "3.6.5"
  }
 },
 "nbformat": 4,
 "nbformat_minor": 2
}
