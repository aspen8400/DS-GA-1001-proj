{
 "cells": [
  {
   "cell_type": "code",
   "execution_count": 1,
   "metadata": {},
   "outputs": [],
   "source": [
    "import numpy as np\n",
    "import pandas as pd\n",
    "import seaborn as sns\n",
    "import matplotlib.pyplot as plt\n",
    "from sklearn.metrics import roc_curve, auc, roc_auc_score\n",
    "from sklearn.metrics import confusion_matrix\n",
    "from sklearn.metrics import classification_report\n",
    "from sklearn.model_selection import KFold, cross_val_score\n",
    "from sklearn.model_selection import train_test_split, GridSearchCV\n",
    "from sklearn.ensemble import RandomForestClassifier\n",
    "import os\n",
    "from pandas.api.types import is_string_dtype\n",
    "from pandas.api.types import is_numeric_dtype\n",
    "from sklearn import preprocessing\n"
   ]
  },
  {
   "cell_type": "code",
   "execution_count": 2,
   "metadata": {},
   "outputs": [],
   "source": [
    "# Import data (for Mac the \"\\\\\" might be replaced by \"/\")\n",
    "cwd = os.getcwd()\n",
    "data = pd.read_csv(cwd + \"\\\\WA_Fn-UseC_-Sales-Win-Loss.csv\", index_col = 0)"
   ]
  },
  {
   "cell_type": "markdown",
   "metadata": {},
   "source": [
    "First do data preparation the Xiao way except standardization which is not required for Random Forest."
   ]
  },
  {
   "cell_type": "code",
   "execution_count": 3,
   "metadata": {},
   "outputs": [],
   "source": [
    "# Data Preparition\n",
    "data_clean = data.copy()\n",
    "# Drop rows with opportunity amount 0\n",
    "data_clean = data_clean.drop(data_clean[data_clean['Opportunity Amount USD'] == 0].index, axis = 0)\n",
    "# Drop features that should not be used in training and prediction\n",
    "data_clean = data_clean.drop(['Sales Stage Change Count', 'Elapsed Days In Sales Stage', \n",
    "                              'Ratio Days Identified To Total Days',\n",
    "                              'Ratio Days Qualified To Total Days', 'Ratio Days Validated To Total Days', \n",
    "                              'Total Days Identified Through Closing', 'Total Days Identified Through Qualified',\n",
    "                              'Deal Size Category'], \n",
    "                             axis = 1)\n",
    "# Change opportunity result(our target variable) to numeric\n",
    "minority = data_clean['Opportunity Result'].value_counts().idxmin()\n",
    "result = np.array((data_clean['Opportunity Result'] == minority).astype(int))\n",
    "data_clean = data_clean.drop(['Opportunity Result'], axis = 1)\n",
    "# For each categorical variables in the dataset, try to assign an unique indicator variable \n",
    "#      for each different category\n",
    "# (This may not be a good step because it adds too many columns, but we'll see)\n",
    "for col in data_clean.columns:\n",
    "    if is_string_dtype(data_clean[col]):\n",
    "        name_set = set(data_clean[col])\n",
    "        for name in name_set:\n",
    "            data_clean[' '.join([col, name, 'indicator'])] = (data_clean[col] == name).astype(int)\n",
    "        data_clean = data_clean.drop([col], axis = 1)\n",
    "# Check if there is any null value in our dataset\n",
    "if data_clean.isnull().any().any():\n",
    "    print('NO!!!!!')\n",
    "# Gladly, we don't have any\n",
    "\n",
    "data_clean['result'] = result"
   ]
  },
  {
   "cell_type": "code",
   "execution_count": 4,
   "metadata": {},
   "outputs": [
    {
     "data": {
      "text/html": [
       "<div>\n",
       "<style scoped>\n",
       "    .dataframe tbody tr th:only-of-type {\n",
       "        vertical-align: middle;\n",
       "    }\n",
       "\n",
       "    .dataframe tbody tr th {\n",
       "        vertical-align: top;\n",
       "    }\n",
       "\n",
       "    .dataframe thead th {\n",
       "        text-align: right;\n",
       "    }\n",
       "</style>\n",
       "<table border=\"1\" class=\"dataframe\">\n",
       "  <thead>\n",
       "    <tr style=\"text-align: right;\">\n",
       "      <th></th>\n",
       "      <th>Opportunity Amount USD</th>\n",
       "      <th>Client Size By Revenue</th>\n",
       "      <th>Client Size By Employee Count</th>\n",
       "      <th>Revenue From Client Past Two Years</th>\n",
       "      <th>Supplies Subgroup Car Electronics indicator</th>\n",
       "      <th>Supplies Subgroup Exterior Accessories indicator</th>\n",
       "      <th>Supplies Subgroup Shelters &amp; RV indicator</th>\n",
       "      <th>Supplies Subgroup Towing &amp; Hitches indicator</th>\n",
       "      <th>Supplies Subgroup Batteries &amp; Accessories indicator</th>\n",
       "      <th>Supplies Subgroup Motorcycle Parts indicator</th>\n",
       "      <th>...</th>\n",
       "      <th>Region Southwest indicator</th>\n",
       "      <th>Route To Market Telecoverage indicator</th>\n",
       "      <th>Route To Market Other indicator</th>\n",
       "      <th>Route To Market Telesales indicator</th>\n",
       "      <th>Route To Market Fields Sales indicator</th>\n",
       "      <th>Route To Market Reseller indicator</th>\n",
       "      <th>Competitor Type None indicator</th>\n",
       "      <th>Competitor Type Unknown indicator</th>\n",
       "      <th>Competitor Type Known indicator</th>\n",
       "      <th>result</th>\n",
       "    </tr>\n",
       "  </thead>\n",
       "  <tbody>\n",
       "    <tr>\n",
       "      <th>count</th>\n",
       "      <td>75949.000000</td>\n",
       "      <td>75949.000000</td>\n",
       "      <td>75949.000000</td>\n",
       "      <td>75949.000000</td>\n",
       "      <td>75949.000000</td>\n",
       "      <td>75949.000000</td>\n",
       "      <td>75949.000000</td>\n",
       "      <td>75949.000000</td>\n",
       "      <td>75949.000000</td>\n",
       "      <td>75949.000000</td>\n",
       "      <td>...</td>\n",
       "      <td>75949.000000</td>\n",
       "      <td>75949.000000</td>\n",
       "      <td>75949.000000</td>\n",
       "      <td>75949.000000</td>\n",
       "      <td>75949.000000</td>\n",
       "      <td>75949.000000</td>\n",
       "      <td>75949.000000</td>\n",
       "      <td>75949.000000</td>\n",
       "      <td>75949.000000</td>\n",
       "      <td>75949.000000</td>\n",
       "    </tr>\n",
       "    <tr>\n",
       "      <th>mean</th>\n",
       "      <td>94096.181727</td>\n",
       "      <td>1.617177</td>\n",
       "      <td>1.600851</td>\n",
       "      <td>0.302874</td>\n",
       "      <td>0.003252</td>\n",
       "      <td>0.178462</td>\n",
       "      <td>0.122306</td>\n",
       "      <td>0.049336</td>\n",
       "      <td>0.114564</td>\n",
       "      <td>0.195618</td>\n",
       "      <td>...</td>\n",
       "      <td>0.105150</td>\n",
       "      <td>0.007663</td>\n",
       "      <td>0.035524</td>\n",
       "      <td>0.029217</td>\n",
       "      <td>0.475042</td>\n",
       "      <td>0.452554</td>\n",
       "      <td>0.118132</td>\n",
       "      <td>0.727238</td>\n",
       "      <td>0.154630</td>\n",
       "      <td>0.227508</td>\n",
       "    </tr>\n",
       "    <tr>\n",
       "      <th>std</th>\n",
       "      <td>134083.441593</td>\n",
       "      <td>1.232121</td>\n",
       "      <td>1.207153</td>\n",
       "      <td>0.928062</td>\n",
       "      <td>0.056935</td>\n",
       "      <td>0.382904</td>\n",
       "      <td>0.327641</td>\n",
       "      <td>0.216569</td>\n",
       "      <td>0.318497</td>\n",
       "      <td>0.396678</td>\n",
       "      <td>...</td>\n",
       "      <td>0.306748</td>\n",
       "      <td>0.087203</td>\n",
       "      <td>0.185101</td>\n",
       "      <td>0.168415</td>\n",
       "      <td>0.499380</td>\n",
       "      <td>0.497747</td>\n",
       "      <td>0.322766</td>\n",
       "      <td>0.445382</td>\n",
       "      <td>0.361554</td>\n",
       "      <td>0.419226</td>\n",
       "    </tr>\n",
       "    <tr>\n",
       "      <th>min</th>\n",
       "      <td>1.000000</td>\n",
       "      <td>1.000000</td>\n",
       "      <td>1.000000</td>\n",
       "      <td>0.000000</td>\n",
       "      <td>0.000000</td>\n",
       "      <td>0.000000</td>\n",
       "      <td>0.000000</td>\n",
       "      <td>0.000000</td>\n",
       "      <td>0.000000</td>\n",
       "      <td>0.000000</td>\n",
       "      <td>...</td>\n",
       "      <td>0.000000</td>\n",
       "      <td>0.000000</td>\n",
       "      <td>0.000000</td>\n",
       "      <td>0.000000</td>\n",
       "      <td>0.000000</td>\n",
       "      <td>0.000000</td>\n",
       "      <td>0.000000</td>\n",
       "      <td>0.000000</td>\n",
       "      <td>0.000000</td>\n",
       "      <td>0.000000</td>\n",
       "    </tr>\n",
       "    <tr>\n",
       "      <th>25%</th>\n",
       "      <td>17000.000000</td>\n",
       "      <td>1.000000</td>\n",
       "      <td>1.000000</td>\n",
       "      <td>0.000000</td>\n",
       "      <td>0.000000</td>\n",
       "      <td>0.000000</td>\n",
       "      <td>0.000000</td>\n",
       "      <td>0.000000</td>\n",
       "      <td>0.000000</td>\n",
       "      <td>0.000000</td>\n",
       "      <td>...</td>\n",
       "      <td>0.000000</td>\n",
       "      <td>0.000000</td>\n",
       "      <td>0.000000</td>\n",
       "      <td>0.000000</td>\n",
       "      <td>0.000000</td>\n",
       "      <td>0.000000</td>\n",
       "      <td>0.000000</td>\n",
       "      <td>0.000000</td>\n",
       "      <td>0.000000</td>\n",
       "      <td>0.000000</td>\n",
       "    </tr>\n",
       "    <tr>\n",
       "      <th>50%</th>\n",
       "      <td>50000.000000</td>\n",
       "      <td>1.000000</td>\n",
       "      <td>1.000000</td>\n",
       "      <td>0.000000</td>\n",
       "      <td>0.000000</td>\n",
       "      <td>0.000000</td>\n",
       "      <td>0.000000</td>\n",
       "      <td>0.000000</td>\n",
       "      <td>0.000000</td>\n",
       "      <td>0.000000</td>\n",
       "      <td>...</td>\n",
       "      <td>0.000000</td>\n",
       "      <td>0.000000</td>\n",
       "      <td>0.000000</td>\n",
       "      <td>0.000000</td>\n",
       "      <td>0.000000</td>\n",
       "      <td>0.000000</td>\n",
       "      <td>0.000000</td>\n",
       "      <td>1.000000</td>\n",
       "      <td>0.000000</td>\n",
       "      <td>0.000000</td>\n",
       "    </tr>\n",
       "    <tr>\n",
       "      <th>75%</th>\n",
       "      <td>110000.000000</td>\n",
       "      <td>1.000000</td>\n",
       "      <td>1.000000</td>\n",
       "      <td>0.000000</td>\n",
       "      <td>0.000000</td>\n",
       "      <td>0.000000</td>\n",
       "      <td>0.000000</td>\n",
       "      <td>0.000000</td>\n",
       "      <td>0.000000</td>\n",
       "      <td>0.000000</td>\n",
       "      <td>...</td>\n",
       "      <td>0.000000</td>\n",
       "      <td>0.000000</td>\n",
       "      <td>0.000000</td>\n",
       "      <td>0.000000</td>\n",
       "      <td>1.000000</td>\n",
       "      <td>1.000000</td>\n",
       "      <td>0.000000</td>\n",
       "      <td>1.000000</td>\n",
       "      <td>0.000000</td>\n",
       "      <td>0.000000</td>\n",
       "    </tr>\n",
       "    <tr>\n",
       "      <th>max</th>\n",
       "      <td>1000000.000000</td>\n",
       "      <td>5.000000</td>\n",
       "      <td>5.000000</td>\n",
       "      <td>4.000000</td>\n",
       "      <td>1.000000</td>\n",
       "      <td>1.000000</td>\n",
       "      <td>1.000000</td>\n",
       "      <td>1.000000</td>\n",
       "      <td>1.000000</td>\n",
       "      <td>1.000000</td>\n",
       "      <td>...</td>\n",
       "      <td>1.000000</td>\n",
       "      <td>1.000000</td>\n",
       "      <td>1.000000</td>\n",
       "      <td>1.000000</td>\n",
       "      <td>1.000000</td>\n",
       "      <td>1.000000</td>\n",
       "      <td>1.000000</td>\n",
       "      <td>1.000000</td>\n",
       "      <td>1.000000</td>\n",
       "      <td>1.000000</td>\n",
       "    </tr>\n",
       "  </tbody>\n",
       "</table>\n",
       "<p>8 rows × 35 columns</p>\n",
       "</div>"
      ],
      "text/plain": [
       "       Opportunity Amount USD  Client Size By Revenue  \\\n",
       "count            75949.000000            75949.000000   \n",
       "mean             94096.181727                1.617177   \n",
       "std             134083.441593                1.232121   \n",
       "min                  1.000000                1.000000   \n",
       "25%              17000.000000                1.000000   \n",
       "50%              50000.000000                1.000000   \n",
       "75%             110000.000000                1.000000   \n",
       "max            1000000.000000                5.000000   \n",
       "\n",
       "       Client Size By Employee Count  Revenue From Client Past Two Years  \\\n",
       "count                   75949.000000                        75949.000000   \n",
       "mean                        1.600851                            0.302874   \n",
       "std                         1.207153                            0.928062   \n",
       "min                         1.000000                            0.000000   \n",
       "25%                         1.000000                            0.000000   \n",
       "50%                         1.000000                            0.000000   \n",
       "75%                         1.000000                            0.000000   \n",
       "max                         5.000000                            4.000000   \n",
       "\n",
       "       Supplies Subgroup Car Electronics indicator  \\\n",
       "count                                 75949.000000   \n",
       "mean                                      0.003252   \n",
       "std                                       0.056935   \n",
       "min                                       0.000000   \n",
       "25%                                       0.000000   \n",
       "50%                                       0.000000   \n",
       "75%                                       0.000000   \n",
       "max                                       1.000000   \n",
       "\n",
       "       Supplies Subgroup Exterior Accessories indicator  \\\n",
       "count                                      75949.000000   \n",
       "mean                                           0.178462   \n",
       "std                                            0.382904   \n",
       "min                                            0.000000   \n",
       "25%                                            0.000000   \n",
       "50%                                            0.000000   \n",
       "75%                                            0.000000   \n",
       "max                                            1.000000   \n",
       "\n",
       "       Supplies Subgroup Shelters & RV indicator  \\\n",
       "count                               75949.000000   \n",
       "mean                                    0.122306   \n",
       "std                                     0.327641   \n",
       "min                                     0.000000   \n",
       "25%                                     0.000000   \n",
       "50%                                     0.000000   \n",
       "75%                                     0.000000   \n",
       "max                                     1.000000   \n",
       "\n",
       "       Supplies Subgroup Towing & Hitches indicator  \\\n",
       "count                                  75949.000000   \n",
       "mean                                       0.049336   \n",
       "std                                        0.216569   \n",
       "min                                        0.000000   \n",
       "25%                                        0.000000   \n",
       "50%                                        0.000000   \n",
       "75%                                        0.000000   \n",
       "max                                        1.000000   \n",
       "\n",
       "       Supplies Subgroup Batteries & Accessories indicator  \\\n",
       "count                                       75949.000000     \n",
       "mean                                            0.114564     \n",
       "std                                             0.318497     \n",
       "min                                             0.000000     \n",
       "25%                                             0.000000     \n",
       "50%                                             0.000000     \n",
       "75%                                             0.000000     \n",
       "max                                             1.000000     \n",
       "\n",
       "       Supplies Subgroup Motorcycle Parts indicator      ...       \\\n",
       "count                                  75949.000000      ...        \n",
       "mean                                       0.195618      ...        \n",
       "std                                        0.396678      ...        \n",
       "min                                        0.000000      ...        \n",
       "25%                                        0.000000      ...        \n",
       "50%                                        0.000000      ...        \n",
       "75%                                        0.000000      ...        \n",
       "max                                        1.000000      ...        \n",
       "\n",
       "       Region Southwest indicator  Route To Market Telecoverage indicator  \\\n",
       "count                75949.000000                            75949.000000   \n",
       "mean                     0.105150                                0.007663   \n",
       "std                      0.306748                                0.087203   \n",
       "min                      0.000000                                0.000000   \n",
       "25%                      0.000000                                0.000000   \n",
       "50%                      0.000000                                0.000000   \n",
       "75%                      0.000000                                0.000000   \n",
       "max                      1.000000                                1.000000   \n",
       "\n",
       "       Route To Market Other indicator  Route To Market Telesales indicator  \\\n",
       "count                     75949.000000                         75949.000000   \n",
       "mean                          0.035524                             0.029217   \n",
       "std                           0.185101                             0.168415   \n",
       "min                           0.000000                             0.000000   \n",
       "25%                           0.000000                             0.000000   \n",
       "50%                           0.000000                             0.000000   \n",
       "75%                           0.000000                             0.000000   \n",
       "max                           1.000000                             1.000000   \n",
       "\n",
       "       Route To Market Fields Sales indicator  \\\n",
       "count                            75949.000000   \n",
       "mean                                 0.475042   \n",
       "std                                  0.499380   \n",
       "min                                  0.000000   \n",
       "25%                                  0.000000   \n",
       "50%                                  0.000000   \n",
       "75%                                  1.000000   \n",
       "max                                  1.000000   \n",
       "\n",
       "       Route To Market Reseller indicator  Competitor Type None indicator  \\\n",
       "count                        75949.000000                    75949.000000   \n",
       "mean                             0.452554                        0.118132   \n",
       "std                              0.497747                        0.322766   \n",
       "min                              0.000000                        0.000000   \n",
       "25%                              0.000000                        0.000000   \n",
       "50%                              0.000000                        0.000000   \n",
       "75%                              1.000000                        0.000000   \n",
       "max                              1.000000                        1.000000   \n",
       "\n",
       "       Competitor Type Unknown indicator  Competitor Type Known indicator  \\\n",
       "count                       75949.000000                     75949.000000   \n",
       "mean                            0.727238                         0.154630   \n",
       "std                             0.445382                         0.361554   \n",
       "min                             0.000000                         0.000000   \n",
       "25%                             0.000000                         0.000000   \n",
       "50%                             1.000000                         0.000000   \n",
       "75%                             1.000000                         0.000000   \n",
       "max                             1.000000                         1.000000   \n",
       "\n",
       "             result  \n",
       "count  75949.000000  \n",
       "mean       0.227508  \n",
       "std        0.419226  \n",
       "min        0.000000  \n",
       "25%        0.000000  \n",
       "50%        0.000000  \n",
       "75%        0.000000  \n",
       "max        1.000000  \n",
       "\n",
       "[8 rows x 35 columns]"
      ]
     },
     "execution_count": 4,
     "metadata": {},
     "output_type": "execute_result"
    }
   ],
   "source": [
    "data_clean.describe()"
   ]
  },
  {
   "cell_type": "code",
   "execution_count": 5,
   "metadata": {
    "scrolled": true
   },
   "outputs": [],
   "source": [
    "# Split data into training and test (Xiao's version)\n",
    "length = len(data_clean['result'])\n",
    "train_index = []\n",
    "test_index = []\n",
    "for i in range(length):\n",
    "    train_index.append(i) if np.random.rand() <= 0.8 else test_index.append(i)\n",
    "data_train = data_clean.iloc[train_index, :]\n",
    "data_test = data_clean.iloc[test_index, :]"
   ]
  },
  {
   "cell_type": "markdown",
   "metadata": {},
   "source": [
    "Now, let's start with Random Forest using the following tutorial: https://towardsdatascience.com/hyperparameter-tuning-the-random-forest-in-python-using-scikit-learn-28d2aa77dd74"
   ]
  },
  {
   "cell_type": "code",
   "execution_count": 7,
   "metadata": {},
   "outputs": [
    {
     "name": "stdout",
     "output_type": "stream",
     "text": [
      "Parameters currently in use:\n",
      "\n",
      "{'bootstrap': True,\n",
      " 'class_weight': None,\n",
      " 'criterion': 'gini',\n",
      " 'max_depth': None,\n",
      " 'max_features': 'auto',\n",
      " 'max_leaf_nodes': None,\n",
      " 'min_impurity_decrease': 0.0,\n",
      " 'min_impurity_split': None,\n",
      " 'min_samples_leaf': 1,\n",
      " 'min_samples_split': 2,\n",
      " 'min_weight_fraction_leaf': 0.0,\n",
      " 'n_estimators': 10,\n",
      " 'n_jobs': 1,\n",
      " 'oob_score': False,\n",
      " 'random_state': 42,\n",
      " 'verbose': 0,\n",
      " 'warm_start': False}\n"
     ]
    }
   ],
   "source": [
    "# Create a baseline model and set the random state for reproductibility\n",
    "rf = RandomForestClassifier(random_state=42)\n",
    "\n",
    "from pprint import pprint\n",
    "# Look at the default parameters\n",
    "print('Parameters currently in use:\\n')\n",
    "pprint(rf.get_params())"
   ]
  },
  {
   "cell_type": "markdown",
   "metadata": {},
   "source": [
    "Here is an explanation of the parameters we will adjust:\n",
    "- criterion: This is the metric used to asses the stopping criteria for the decision trees.\n",
    "- n_estimators = number of trees in the foreset\n",
    "- max_features = max number of features considered for splitting a node\n",
    "- max_depth = max number of levels in each decision tree\n",
    "- min_samples_split = min number of data points placed in a node before the node is split\n",
    "- min_samples_leaf = min number of data points allowed in a leaf node\n",
    "- bootstrap = method for sampling data points (with or without replacement)"
   ]
  },
  {
   "cell_type": "code",
   "execution_count": 8,
   "metadata": {},
   "outputs": [
    {
     "name": "stdout",
     "output_type": "stream",
     "text": [
      "{'bootstrap': [True, False],\n",
      " 'criterion': ['gini', 'entropy'],\n",
      " 'max_depth': [10, 20, 30, 40, 50, 60, 70, 80, 90, 100, 110, None],\n",
      " 'max_features': ['auto', 'sqrt', 'log2', None],\n",
      " 'min_samples_leaf': [1, 2, 4],\n",
      " 'min_samples_split': [2, 5, 10],\n",
      " 'n_estimators': [100, 200, 300, 400, 500, 600, 700, 800, 900, 1000]}\n"
     ]
    }
   ],
   "source": [
    "# Create a parameter grid to sample from during fitting\n",
    "\n",
    "# Number of trees in random forest\n",
    "n_estimators = [int(x) for x in np.linspace(start = 100, stop = 1000, num = 10)]\n",
    "# Number of features to consider at every split\n",
    "max_features = ['auto', 'sqrt', \"log2\", None]\n",
    "# Maximum number of levels in tree\n",
    "max_depth = [int(x) for x in np.linspace(10, 110, num = 11)]\n",
    "max_depth.append(None)\n",
    "# Minimum number of samples required to split a node\n",
    "min_samples_split = [2, 5, 10]\n",
    "# Minimum number of samples required at each leaf node\n",
    "min_samples_leaf = [1, 2, 4]\n",
    "# Method of selecting samples for training each tree\n",
    "bootstrap = [True, False]\n",
    "# Criterion\n",
    "criterion = ['gini', 'entropy']\n",
    "# Create the random grid\n",
    "random_grid = {'n_estimators': n_estimators,\n",
    "               'max_features': max_features,\n",
    "               'max_depth': max_depth,\n",
    "               'min_samples_split': min_samples_split,\n",
    "               'min_samples_leaf': min_samples_leaf,\n",
    "               'bootstrap': bootstrap,\n",
    "               \"criterion\": criterion}\n",
    "pprint(random_grid)"
   ]
  },
  {
   "cell_type": "markdown",
   "metadata": {},
   "source": [
    "### Take 1\n",
    "Run a first random search with n_iter 10 and see model performance"
   ]
  },
  {
   "cell_type": "code",
   "execution_count": 10,
   "metadata": {},
   "outputs": [
    {
     "name": "stdout",
     "output_type": "stream",
     "text": [
      "Fitting 3 folds for each of 10 candidates, totalling 30 fits\n"
     ]
    },
    {
     "name": "stderr",
     "output_type": "stream",
     "text": [
      "[Parallel(n_jobs=-1)]: Done  30 out of  30 | elapsed: 11.9min finished\n"
     ]
    },
    {
     "name": "stdout",
     "output_type": "stream",
     "text": [
      "Time taken in random grid:  743.07\n"
     ]
    }
   ],
   "source": [
    "# Use the random grid to search for best hyperparameters\n",
    "from sklearn.model_selection import RandomizedSearchCV\n",
    "import time\n",
    "\n",
    "# Random search of parameters, using 3 fold cross validation, \n",
    "# search across 100 different combinations, and use all available cores\n",
    "start = time.time()\n",
    "\n",
    "rf_random = RandomizedSearchCV(estimator = rf, \n",
    "                               param_distributions = random_grid, \n",
    "                               n_iter = 10, \n",
    "                               cv = 3, \n",
    "                               verbose=2, \n",
    "                               random_state=42, \n",
    "                               n_jobs = -1)\n",
    "\n",
    "# Fit the random search model\n",
    "rf_random.fit(data_train.drop(\"result\", 1), data_train['result'])\n",
    "\n",
    "end = time.time()\n",
    "print('Time taken in random grid: {0: .2f}'.format(end - start))"
   ]
  },
  {
   "cell_type": "code",
   "execution_count": 11,
   "metadata": {},
   "outputs": [
    {
     "data": {
      "text/plain": [
       "{'n_estimators': 100,\n",
       " 'min_samples_split': 10,\n",
       " 'min_samples_leaf': 4,\n",
       " 'max_features': None,\n",
       " 'max_depth': 30,\n",
       " 'criterion': 'entropy',\n",
       " 'bootstrap': True}"
      ]
     },
     "execution_count": 11,
     "metadata": {},
     "output_type": "execute_result"
    }
   ],
   "source": [
    "rf_random.best_params_"
   ]
  },
  {
   "cell_type": "code",
   "execution_count": 16,
   "metadata": {},
   "outputs": [
    {
     "data": {
      "text/plain": [
       "RandomForestClassifier(bootstrap=True, class_weight=None, criterion='entropy',\n",
       "            max_depth=30, max_features=None, max_leaf_nodes=None,\n",
       "            min_impurity_decrease=0.0, min_impurity_split=None,\n",
       "            min_samples_leaf=4, min_samples_split=10,\n",
       "            min_weight_fraction_leaf=0.0, n_estimators=100, n_jobs=1,\n",
       "            oob_score=False, random_state=42, verbose=0, warm_start=False)"
      ]
     },
     "execution_count": 16,
     "metadata": {},
     "output_type": "execute_result"
    }
   ],
   "source": [
    "# Train a first model with these parameters\n",
    "rf_1 = rf_random.best_estimator_\n",
    "rf_1.fit(data_train.drop(\"result\", 1), data_train['result'])"
   ]
  },
  {
   "cell_type": "code",
   "execution_count": 21,
   "metadata": {},
   "outputs": [],
   "source": [
    "# Make prediction\n",
    "rf_1_pred = rf_1.predict_proba(data_test.drop(\"result\", 1))"
   ]
  },
  {
   "cell_type": "code",
   "execution_count": 23,
   "metadata": {},
   "outputs": [
    {
     "data": {
      "text/plain": [
       "0.8409171411076852"
      ]
     },
     "execution_count": 23,
     "metadata": {},
     "output_type": "execute_result"
    }
   ],
   "source": [
    "# Get AUC\n",
    "roc_auc_score(data_test[\"result\"], rf_1_pred[:,1])"
   ]
  },
  {
   "cell_type": "code",
   "execution_count": 25,
   "metadata": {},
   "outputs": [
    {
     "name": "stdout",
     "output_type": "stream",
     "text": [
      "Fitting 3 folds for each of 432 candidates, totalling 1296 fits\n"
     ]
    },
    {
     "name": "stderr",
     "output_type": "stream",
     "text": [
      "[Parallel(n_jobs=-1)]: Done  33 tasks      | elapsed:  1.8min\n",
      "[Parallel(n_jobs=-1)]: Done 154 tasks      | elapsed:  9.7min\n",
      "[Parallel(n_jobs=-1)]: Done 357 tasks      | elapsed: 51.6min\n",
      "[Parallel(n_jobs=-1)]: Done 640 tasks      | elapsed: 97.9min\n",
      "[Parallel(n_jobs=-1)]: Done 1005 tasks      | elapsed: 147.5min\n",
      "[Parallel(n_jobs=-1)]: Done 1296 out of 1296 | elapsed: 190.9min finished\n"
     ]
    },
    {
     "name": "stdout",
     "output_type": "stream",
     "text": [
      "Time taken in random grid:  11564.93\n"
     ]
    }
   ],
   "source": [
    "# Now try additionally gridsearch an see improvement\n",
    "from sklearn.model_selection import GridSearchCV\n",
    "\n",
    "# Create the parameter grid based on the results of random search \n",
    "search_grid = {\n",
    "    'bootstrap': [True],\n",
    "    'max_depth': [20, 30, 40, 50],\n",
    "    'max_features': [2, 3, None],\n",
    "    'min_samples_leaf': [3, 4, 5],\n",
    "    'min_samples_split': [8, 10, 12],\n",
    "    'n_estimators': [80, 100, 200, 400]\n",
    "}\n",
    "\n",
    "# Instantiate the grid search model\n",
    "grid_search = GridSearchCV(estimator = rf, param_grid = search_grid, \n",
    "                          cv = 3, n_jobs = -1, verbose = 2)\n",
    "\n",
    "# Fit the grid search to the data\n",
    "start = time.time()\n",
    "grid_search.fit(data_train.drop(\"result\", 1), data_train['result'])\n",
    "end = time.time()\n",
    "print('Time taken in random grid: {0: .2f}'.format(end - start))"
   ]
  },
  {
   "cell_type": "code",
   "execution_count": 28,
   "metadata": {},
   "outputs": [
    {
     "data": {
      "text/plain": [
       "{'bootstrap': True,\n",
       " 'max_depth': 30,\n",
       " 'max_features': None,\n",
       " 'min_samples_leaf': 5,\n",
       " 'min_samples_split': 12,\n",
       " 'n_estimators': 400}"
      ]
     },
     "execution_count": 28,
     "metadata": {},
     "output_type": "execute_result"
    }
   ],
   "source": [
    "# Look at optimal parameters\n",
    "grid_search.best_params_"
   ]
  },
  {
   "cell_type": "code",
   "execution_count": 29,
   "metadata": {},
   "outputs": [
    {
     "data": {
      "text/plain": [
       "RandomForestClassifier(bootstrap=True, class_weight=None, criterion='gini',\n",
       "            max_depth=30, max_features=None, max_leaf_nodes=None,\n",
       "            min_impurity_decrease=0.0, min_impurity_split=None,\n",
       "            min_samples_leaf=5, min_samples_split=12,\n",
       "            min_weight_fraction_leaf=0.0, n_estimators=400, n_jobs=1,\n",
       "            oob_score=False, random_state=42, verbose=0, warm_start=False)"
      ]
     },
     "execution_count": 29,
     "metadata": {},
     "output_type": "execute_result"
    }
   ],
   "source": [
    "# Train the model on these\n",
    "rf_2 = grid_search.best_estimator_\n",
    "rf_2.fit(data_train.drop(\"result\", 1), data_train['result'])"
   ]
  },
  {
   "cell_type": "code",
   "execution_count": 30,
   "metadata": {},
   "outputs": [],
   "source": [
    "# Make prediction\n",
    "rf_2_pred = rf_2.predict_proba(data_test.drop(\"result\", 1))"
   ]
  },
  {
   "cell_type": "code",
   "execution_count": 31,
   "metadata": {},
   "outputs": [
    {
     "data": {
      "text/plain": [
       "0.844561554095254"
      ]
     },
     "execution_count": 31,
     "metadata": {},
     "output_type": "execute_result"
    }
   ],
   "source": [
    "# Get AUC\n",
    "roc_auc_score(data_test[\"result\"], rf_2_pred[:,1])"
   ]
  },
  {
   "cell_type": "markdown",
   "metadata": {},
   "source": [
    "Overview of models:\n",
    "\n",
    "1) **Random Grid**: <br>\n",
    "~~~~\n",
    "RandomForestClassifier(bootstrap=True, class_weight=None, criterion='entropy',\n",
    "            max_depth=30, max_features=None, max_leaf_nodes=None,\n",
    "            min_impurity_decrease=0.0, min_impurity_split=None,\n",
    "            min_samples_leaf=4, min_samples_split=10,\n",
    "            min_weight_fraction_leaf=0.0, n_estimators=100, n_jobs=1,\n",
    "            oob_score=False, random_state=42, verbose=0, warm_start=False)\n",
    "~~~~\n",
    "- AUC = 0.8409171411076852\n",
    "\n",
    "2) **Random Grid + Grid Search**: <br>\n",
    "~~~~\n",
    "RandomForestClassifier(bootstrap=True, class_weight=None, criterion='gini',\n",
    "            max_depth=30, max_features=None, max_leaf_nodes=None,\n",
    "            min_impurity_decrease=0.0, min_impurity_split=None,\n",
    "            min_samples_leaf=5, min_samples_split=12,\n",
    "            min_weight_fraction_leaf=0.0, n_estimators=400, n_jobs=1,\n",
    "            oob_score=False, random_state=42, verbose=0, warm_start=False)\n",
    "~~~~\n",
    "- AUC = 0.844561554095254"
   ]
  },
  {
   "cell_type": "code",
   "execution_count": 32,
   "metadata": {},
   "outputs": [],
   "source": [
    "# Now plot the ROCs\n",
    "\n",
    "# Use Xiaos function\n",
    "def plotROC(preds, truth, name):\n",
    "    fpr, tpr, thresholds = roc_curve(truth, preds)\n",
    "    roc_auc = auc(fpr, tpr)\n",
    "    # chooses a random color for plotting\n",
    "    c = (np.random.rand(), np.random.rand(), np.random.rand())\n",
    "    #create the plot\n",
    "    plt.plot(fpr, tpr, color = c, label = name + ' (AUC = %0.3f)' % roc_auc)\n",
    "    plt.plot([0, 1], [0, 1], 'k--')\n",
    "    plt.xlim([0.0, 1.0])\n",
    "    plt.ylim([0.0, 1.0])\n",
    "    plt.xlabel('FPR')\n",
    "    plt.ylabel('TPR')\n",
    "    plt.title('ROC')\n",
    "    plt.legend(loc=\"lower right\")\n",
    "    return roc_auc"
   ]
  },
  {
   "cell_type": "code",
   "execution_count": 35,
   "metadata": {},
   "outputs": [
    {
     "data": {
      "text/plain": [
       "array([0.16340116, 0.07684337, 0.57770012, ..., 0.16325935, 0.85049954,\n",
       "       0.007932  ])"
      ]
     },
     "execution_count": 35,
     "metadata": {},
     "output_type": "execute_result"
    }
   ],
   "source": [
    "rf_2_pred[:,1]"
   ]
  },
  {
   "cell_type": "code",
   "execution_count": 37,
   "metadata": {},
   "outputs": [
    {
     "data": {
      "text/plain": [
       "0.844561554095254"
      ]
     },
     "execution_count": 37,
     "metadata": {},
     "output_type": "execute_result"
    },
    {
     "data": {
      "image/png": "[encoded data removed]",
      "text/plain": [
       "<Figure size 1080x720 with 1 Axes>"
      ]
     },
     "metadata": {},
     "output_type": "display_data"
    }
   ],
   "source": [
    "# Plot ROCs\n",
    "fig = plt.figure(figsize = (15, 10))\n",
    "plotROC(rf_1_pred[:,1], data_test['result'], 'Random Grid + Grid Search')\n",
    "plotROC(rf_2_pred[:,1], data_test['result'], 'Random Grid + Grid Search')"
   ]
  },
  {
   "cell_type": "markdown",
   "metadata": {},
   "source": [
    "## Here is the code for just running the best Random Forest Model"
   ]
  },
  {
   "cell_type": "markdown",
   "metadata": {},
   "source": [
    "### Don't standardize the data, use the code below for cleaning"
   ]
  },
  {
   "cell_type": "code",
   "execution_count": null,
   "metadata": {},
   "outputs": [],
   "source": [
    "# Data Preparition\n",
    "data_clean = data.copy()\n",
    "# Drop rows with opportunity amount 0\n",
    "data_clean = data_clean.drop(data_clean[data_clean['Opportunity Amount USD'] == 0].index, axis = 0)\n",
    "# Drop features that should not be used in training and prediction\n",
    "data_clean = data_clean.drop(['Sales Stage Change Count', 'Elapsed Days In Sales Stage', \n",
    "                              'Ratio Days Identified To Total Days',\n",
    "                              'Ratio Days Qualified To Total Days', 'Ratio Days Validated To Total Days', \n",
    "                              'Total Days Identified Through Closing', 'Total Days Identified Through Qualified',\n",
    "                              'Deal Size Category'], \n",
    "                             axis = 1)\n",
    "# Change opportunity result(our target variable) to numeric\n",
    "minority = data_clean['Opportunity Result'].value_counts().idxmin()\n",
    "result = np.array((data_clean['Opportunity Result'] == minority).astype(int))\n",
    "data_clean = data_clean.drop(['Opportunity Result'], axis = 1)\n",
    "# For each categorical variables in the dataset, try to assign an unique indicator variable \n",
    "#      for each different category\n",
    "# (This may not be a good step because it adds too many columns, but we'll see)\n",
    "for col in data_clean.columns:\n",
    "    if is_string_dtype(data_clean[col]):\n",
    "        name_set = set(data_clean[col])\n",
    "        for name in name_set:\n",
    "            data_clean[' '.join([col, name, 'indicator'])] = (data_clean[col] == name).astype(int)\n",
    "        data_clean = data_clean.drop([col], axis = 1)\n",
    "# Check if there is any null value in our dataset\n",
    "if data_clean.isnull().any().any():\n",
    "    print('NO!!!!!')\n",
    "# Gladly, we don't have any\n",
    "\n",
    "data_clean['result'] = result"
   ]
  },
  {
   "cell_type": "code",
   "execution_count": null,
   "metadata": {},
   "outputs": [],
   "source": [
    "# Split data into training and test (Xiao's version)\n",
    "length = len(data_clean['result'])\n",
    "train_index = []\n",
    "test_index = []\n",
    "for i in range(length):\n",
    "    train_index.append(i) if np.random.rand() <= 0.8 else test_index.append(i)\n",
    "data_train = data_clean.iloc[train_index, :]\n",
    "data_test = data_clean.iloc[test_index, :]"
   ]
  },
  {
   "cell_type": "code",
   "execution_count": 38,
   "metadata": {},
   "outputs": [
    {
     "data": {
      "text/plain": [
       "0.844561554095254"
      ]
     },
     "execution_count": 38,
     "metadata": {},
     "output_type": "execute_result"
    }
   ],
   "source": [
    "# Set model parameters\n",
    "RF = RandomForestClassifier(bootstrap=True, class_weight=None, criterion='gini',\n",
    "            max_depth=30, max_features=None, max_leaf_nodes=None,\n",
    "            min_impurity_decrease=0.0, min_impurity_split=None,\n",
    "            min_samples_leaf=5, min_samples_split=12,\n",
    "            min_weight_fraction_leaf=0.0, n_estimators=400, n_jobs=1,\n",
    "            oob_score=False, random_state=42, verbose=0, warm_start=False)\n",
    "\n",
    "# Train the model\n",
    "RF.fit(data_train.drop(\"result\", 1), data_train['result'])\n",
    "\n",
    "# Make predictions\n",
    "result_RF = RF.predict_proba(data_test.drop(\"result\", 1))[:,1]\n",
    "\n",
    "# Get AUC\n",
    "roc_auc_score(data_test[\"result\"], result_RF)"
   ]
  },
  {
   "cell_type": "code",
   "execution_count": 39,
   "metadata": {},
   "outputs": [
    {
     "data": {
      "text/plain": [
       "0.844561554095254"
      ]
     },
     "execution_count": 39,
     "metadata": {},
     "output_type": "execute_result"
    },
    {
     "data": {
      "image/png": "[encoded data removed]",
      "text/plain": [
       "<Figure size 1080x720 with 1 Axes>"
      ]
     },
     "metadata": {},
     "output_type": "display_data"
    }
   ],
   "source": [
    "# Plot the ROC\n",
    "fig = plt.figure(figsize = (15, 10))\n",
    "plotROC(result_RF, data_test['result'], 'Random Grid + Grid Search')"
   ]
  }
 ],
 "metadata": {
  "kernelspec": {
   "display_name": "Python 3",
   "language": "python",
   "name": "python3"
  },
  "language_info": {
   "codemirror_mode": {
    "name": "ipython",
    "version": 3
   },
   "file_extension": ".py",
   "mimetype": "text/x-python",
   "name": "python",
   "nbconvert_exporter": "python",
   "pygments_lexer": "ipython3",
   "version": "3.6.5"
  }
 },
 "nbformat": 4,
 "nbformat_minor": 2
}
